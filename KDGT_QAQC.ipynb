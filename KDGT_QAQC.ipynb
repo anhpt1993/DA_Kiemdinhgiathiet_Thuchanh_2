{
 "cells": [
  {
   "cell_type": "markdown",
   "id": "8396313c-a1f3-4ad0-9714-52aefdf0f182",
   "metadata": {},
   "source": [
    "# 0. Khai báo các thư viện cần thiết"
   ]
  },
  {
   "cell_type": "code",
   "execution_count": 1,
   "id": "601e9dc0-e838-41b6-bc66-3d9ce89a45fa",
   "metadata": {},
   "outputs": [],
   "source": [
    "import pandas as pd\n",
    "import matplotlib.pyplot as plt\n",
    "import seaborn as sns\n",
    "from scipy import stats"
   ]
  },
  {
   "cell_type": "markdown",
   "id": "3e684e3b-f887-461e-a2fb-a722b2b8f9c7",
   "metadata": {},
   "source": [
    "# 1. Đọc dữ liệu từ file Excel"
   ]
  },
  {
   "cell_type": "code",
   "execution_count": 2,
   "id": "347b2e10-3179-4874-91cf-d1f89dfad5a9",
   "metadata": {},
   "outputs": [
    {
     "name": "stderr",
     "output_type": "stream",
     "text": [
      "C:\\Users\\PHAM THE ANH\\AppData\\Local\\Programs\\Python\\Python310\\lib\\site-packages\\openpyxl\\worksheet\\header_footer.py:48: UserWarning: Cannot parse header or footer so it will be ignored\n",
      "  warn(\"\"\"Cannot parse header or footer so it will be ignored\"\"\")\n"
     ]
    },
    {
     "data": {
      "text/html": [
       "<div>\n",
       "<style scoped>\n",
       "    .dataframe tbody tr th:only-of-type {\n",
       "        vertical-align: middle;\n",
       "    }\n",
       "\n",
       "    .dataframe tbody tr th {\n",
       "        vertical-align: top;\n",
       "    }\n",
       "\n",
       "    .dataframe thead th {\n",
       "        text-align: right;\n",
       "    }\n",
       "</style>\n",
       "<table border=\"1\" class=\"dataframe\">\n",
       "  <thead>\n",
       "    <tr style=\"text-align: right;\">\n",
       "      <th></th>\n",
       "      <th>Sample 1</th>\n",
       "      <th>Sample 2</th>\n",
       "      <th>Sample 3</th>\n",
       "      <th>Sample 4</th>\n",
       "    </tr>\n",
       "  </thead>\n",
       "  <tbody>\n",
       "    <tr>\n",
       "      <th>0</th>\n",
       "      <td>11.55</td>\n",
       "      <td>11.62</td>\n",
       "      <td>11.91</td>\n",
       "      <td>12.02</td>\n",
       "    </tr>\n",
       "    <tr>\n",
       "      <th>1</th>\n",
       "      <td>11.62</td>\n",
       "      <td>11.69</td>\n",
       "      <td>11.36</td>\n",
       "      <td>12.02</td>\n",
       "    </tr>\n",
       "    <tr>\n",
       "      <th>2</th>\n",
       "      <td>11.52</td>\n",
       "      <td>11.59</td>\n",
       "      <td>11.75</td>\n",
       "      <td>12.05</td>\n",
       "    </tr>\n",
       "    <tr>\n",
       "      <th>3</th>\n",
       "      <td>11.75</td>\n",
       "      <td>11.82</td>\n",
       "      <td>11.95</td>\n",
       "      <td>12.18</td>\n",
       "    </tr>\n",
       "    <tr>\n",
       "      <th>4</th>\n",
       "      <td>11.90</td>\n",
       "      <td>11.97</td>\n",
       "      <td>12.14</td>\n",
       "      <td>12.11</td>\n",
       "    </tr>\n",
       "  </tbody>\n",
       "</table>\n",
       "</div>"
      ],
      "text/plain": [
       "   Sample 1  Sample 2  Sample 3  Sample 4\n",
       "0     11.55     11.62     11.91     12.02\n",
       "1     11.62     11.69     11.36     12.02\n",
       "2     11.52     11.59     11.75     12.05\n",
       "3     11.75     11.82     11.95     12.18\n",
       "4     11.90     11.97     12.14     12.11"
      ]
     },
     "execution_count": 2,
     "metadata": {},
     "output_type": "execute_result"
    }
   ],
   "source": [
    "df = pd.read_excel(\"https://s3.ap-southeast-1.amazonaws.com/learn.codegym.vn/media/public/2022/03/06085738/Quality.xlsx\")\n",
    "df.head()"
   ]
  },
  {
   "cell_type": "code",
   "execution_count": 3,
   "id": "dad6f5be-9709-46a5-bb25-4995535a91db",
   "metadata": {},
   "outputs": [
    {
     "name": "stdout",
     "output_type": "stream",
     "text": [
      "<class 'pandas.core.frame.DataFrame'>\n",
      "RangeIndex: 30 entries, 0 to 29\n",
      "Data columns (total 4 columns):\n",
      " #   Column    Non-Null Count  Dtype  \n",
      "---  ------    --------------  -----  \n",
      " 0   Sample 1  30 non-null     float64\n",
      " 1   Sample 2  30 non-null     float64\n",
      " 2   Sample 3  30 non-null     float64\n",
      " 3   Sample 4  30 non-null     float64\n",
      "dtypes: float64(4)\n",
      "memory usage: 1.1 KB\n"
     ]
    }
   ],
   "source": [
    "df.info()"
   ]
  },
  {
   "cell_type": "markdown",
   "id": "301ef77c-285e-4813-81ef-ea56d0825ae6",
   "metadata": {},
   "source": [
    "# 2. Với mức ý nghĩa 1%, tiến hành kiểm định chất lượng sản phẩm"
   ]
  },
  {
   "cell_type": "code",
   "execution_count": 4,
   "id": "8a18a128-f26c-42cb-86d5-66e2ad88cd9a",
   "metadata": {},
   "outputs": [
    {
     "data": {
      "text/html": [
       "<div>\n",
       "<style scoped>\n",
       "    .dataframe tbody tr th:only-of-type {\n",
       "        vertical-align: middle;\n",
       "    }\n",
       "\n",
       "    .dataframe tbody tr th {\n",
       "        vertical-align: top;\n",
       "    }\n",
       "\n",
       "    .dataframe thead th {\n",
       "        text-align: right;\n",
       "    }\n",
       "</style>\n",
       "<table border=\"1\" class=\"dataframe\">\n",
       "  <thead>\n",
       "    <tr style=\"text-align: right;\">\n",
       "      <th></th>\n",
       "      <th>sample</th>\n",
       "    </tr>\n",
       "  </thead>\n",
       "  <tbody>\n",
       "    <tr>\n",
       "      <th>count</th>\n",
       "      <td>120.000000</td>\n",
       "    </tr>\n",
       "    <tr>\n",
       "      <th>mean</th>\n",
       "      <td>11.989417</td>\n",
       "    </tr>\n",
       "    <tr>\n",
       "      <th>std</th>\n",
       "      <td>0.223108</td>\n",
       "    </tr>\n",
       "    <tr>\n",
       "      <th>min</th>\n",
       "      <td>11.360000</td>\n",
       "    </tr>\n",
       "    <tr>\n",
       "      <th>25%</th>\n",
       "      <td>11.850000</td>\n",
       "    </tr>\n",
       "    <tr>\n",
       "      <th>50%</th>\n",
       "      <td>12.000000</td>\n",
       "    </tr>\n",
       "    <tr>\n",
       "      <th>75%</th>\n",
       "      <td>12.160000</td>\n",
       "    </tr>\n",
       "    <tr>\n",
       "      <th>max</th>\n",
       "      <td>12.470000</td>\n",
       "    </tr>\n",
       "  </tbody>\n",
       "</table>\n",
       "</div>"
      ],
      "text/plain": [
       "           sample\n",
       "count  120.000000\n",
       "mean    11.989417\n",
       "std      0.223108\n",
       "min     11.360000\n",
       "25%     11.850000\n",
       "50%     12.000000\n",
       "75%     12.160000\n",
       "max     12.470000"
      ]
     },
     "execution_count": 4,
     "metadata": {},
     "output_type": "execute_result"
    }
   ],
   "source": [
    "# Tiền xử lý dữ liệu\n",
    "# Gom hết dữ liệu của 4 mẫu thành một mảng duy nhất\n",
    "sample = list()\n",
    "for i in df.columns:\n",
    "    sample.extend(df[i].tolist())\n",
    "\n",
    "# Tiến hành một tả dữ liệu mẫu\n",
    "df = pd.DataFrame(columns = [\"sample\"], data = sample)\n",
    "df.describe()"
   ]
  },
  {
   "cell_type": "markdown",
   "id": "a1eb4e53-fb45-471d-bf3f-8f95f6c88828",
   "metadata": {},
   "source": [
    "Dựa vào kết quả phân tích trên: Bộ dữ liệu chứa đủ 120 mẫu:\n",
    "- Giá trị trung bình trên mẫu đúng bằng 12, giống mô tả của khách hàng\n",
    "- Phương sai: 0.223108 > 0.21 => Khách hàng nên thay đổi lại tuyên bố sai số của mình\n",
    "- Tiến hành kiểm định về giá trị trung bình:\n",
    "    + Giả thuyết không: Khối lương trung bình của sản phẩm = 12\n",
    "    + Giả thuyết đối: Khối lượng trung bình của sản phẩm # 12\n",
    "    + Thực hiện phép kiểm định: One Sample T Test"
   ]
  },
  {
   "cell_type": "code",
   "execution_count": 5,
   "id": "8c65e205-8a8e-4694-9bce-521b635e615b",
   "metadata": {
    "tags": []
   },
   "outputs": [
    {
     "name": "stdout",
     "output_type": "stream",
     "text": [
      "Ttest_1sampResult(statistic=-0.5196355789314843, pvalue=0.6042828222996104)\n"
     ]
    }
   ],
   "source": [
    "print(stats.ttest_1samp(sample, 12))"
   ]
  },
  {
   "cell_type": "markdown",
   "id": "3e3ead4f-9be0-48d1-ba8f-3e9bcd6a8f5b",
   "metadata": {},
   "source": [
    "Do pvalue > 1% => Chấp nhận giả thiết 0. </br>\n",
    "Kết luận: Tuyên bố của khách hàng về giá trị trung bình là đúng, nhưng tuyên bố về sai số của sản phẩm đang không hợp lý. </br>\n",
    "Khách hàng nên tuyên bố như sau: Khối lượng sản phẩm trung bình của sản phẩm là 12, với sai số đóng gói trung bình là 0.24 (chiếm khoảng 2%). Hoặc khách hàng cần phải xem lại việc vận hành để đảm bảo tuyên bố ban đầu."
   ]
  }
 ],
 "metadata": {
  "kernelspec": {
   "display_name": "Python 3 (ipykernel)",
   "language": "python",
   "name": "python3"
  },
  "language_info": {
   "codemirror_mode": {
    "name": "ipython",
    "version": 3
   },
   "file_extension": ".py",
   "mimetype": "text/x-python",
   "name": "python",
   "nbconvert_exporter": "python",
   "pygments_lexer": "ipython3",
   "version": "3.10.1"
  }
 },
 "nbformat": 4,
 "nbformat_minor": 5
}
